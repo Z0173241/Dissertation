{
 "cells": [
  {
   "cell_type": "code",
   "execution_count": null,
   "metadata": {},
   "outputs": [],
   "source": [
    "import pandas as pd \n",
    "\n",
    "#load excel files \n",
    "\n",
    "df_audit = pd.read_excel ('/Users/lojainabdulla/Downloads/Sources for dataset/2019-2020/Audit_file-2019-2020.xlsx')\n",
    "df_trust_to_orgcode = pd.read_csv('/Users/lojainabdulla/Downloads/Sources for dataset/2017-2018/Organisation_to_auditfile.CSV')\n",
    "df_expenses = pd.read_excel('/Users/lojainabdulla/Downloads/Sources for dataset/2018-2019/costs aggregated 2018-2019.xlsx')\n",
    "\n",
    "df_audit = df_audit.merge(\n",
    "    df_trust_to_orgcode[['Org Name', 'Org Code']],\n",
    "    left_on='BodyName', right_on='Org Name',\n",
    "    how='left'\n",
    ").drop(columns='Org Name')\n",
    "\n",
    "df_expenses = df_expenses.merge(\n",
    "    df_audit[['Org Code', 'OpinionOnFinancialStatements', 'VfmArrangementsConclusion',\n",
    "              'AdditionalReportingPowers', 'AuditorReportOrLetterLink']],\n",
    "    on='Org Code',\n",
    "    how='left'\n",
    ")\n",
    "\n",
    "# Save file\n",
    "df_expenses.to_excel(\"Dataset2019-2020.xlsx\", index=False)\n"
   ]
  }
 ],
 "metadata": {
  "kernelspec": {
   "display_name": "Python 3",
   "language": "python",
   "name": "python3"
  },
  "language_info": {
   "codemirror_mode": {
    "name": "ipython",
    "version": 3
   },
   "file_extension": ".py",
   "mimetype": "text/x-python",
   "name": "python",
   "nbconvert_exporter": "python",
   "pygments_lexer": "ipython3",
   "version": "3.12.3"
  }
 },
 "nbformat": 4,
 "nbformat_minor": 2
}
