{
 "cells": [
  {
   "cell_type": "code",
   "execution_count": null,
   "id": "62ac29ca",
   "metadata": {},
   "outputs": [],
   "source": [
    "import pandas as pd\n",
    "from sklearn.metrics import matthews_corrcoef\n",
    "\n",
    "# Load the data \n",
    "df_files = pd.read_excel('/Volumes/Z Slim/finaldataset_with_iForest.xlsx')     \n",
    "percentage_ones = (df_files['LLM Score'] == 1).mean() * 100\n",
    "\n",
    "print(f\"Percentage of 1s in 'LLM Score': {percentage_ones:.2f}%\")\n",
    "percentage_ones = (df_files['iForest'] == 1).mean() * 100\n",
    "\n",
    "print(f\"Percentage of 1s in 'iForest': {percentage_ones:.2f}%\")\n",
    "\n",
    "# Calculate Pearson correlation\n",
    "correlation = df_files['LLM Score'].corr(df_files['iForest'])\n",
    "\n",
    "print(f\"Pearson correlation coefficient: {correlation:.3f}\")\n",
    "# Matthews correlation coefficient \n",
    "mcc = matthews_corrcoef(df_files[\"LLM Score\"], df_files[\"iForest\"])\n",
    "print(f\"MCC between models:          {mcc:.4f}\")\n",
    "# Percentage of cases where both models flag (i.e., both are 1)\n",
    "both = ((df_files[\"LLM Score\"] == 1) & (df_files[\"iForest\"] == 1)).mean()\n",
    "\n",
    "# Percentage where only LLM flags\n",
    "solo_llm = ((df_files[\"LLM Score\"] == 1) & (df_files[\"iForest\"] == 0)).mean()\n",
    "\n",
    "# Percentage where only Isolation Forest flags\n",
    "solo_if = ((df_files[\"LLM Score\"] == 0) & (df_files[\"iForest\"] == 1)).mean()\n",
    "\n",
    "# Print results\n",
    "print(f\"Both models flag:   {both*100:.2f}%\")\n",
    "print(f\"LLM only flags:     {solo_llm*100:.2f}%\")\n",
    "print(f\"Isolation only:     {solo_if*100:.2f}%\")\n"
   ]
  }
 ],
 "metadata": {
  "kernelspec": {
   "display_name": "Python 3",
   "language": "python",
   "name": "python3"
  },
  "language_info": {
   "codemirror_mode": {
    "name": "ipython",
    "version": 3
   },
   "file_extension": ".py",
   "mimetype": "text/x-python",
   "name": "python",
   "nbconvert_exporter": "python",
   "pygments_lexer": "ipython3",
   "version": "3.12.3"
  }
 },
 "nbformat": 4,
 "nbformat_minor": 5
}
