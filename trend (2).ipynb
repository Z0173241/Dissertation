{
 "cells": [
  {
   "cell_type": "code",
   "execution_count": null,
   "id": "029806d8",
   "metadata": {},
   "outputs": [],
   "source": [
    "import pandas as pd\n",
    "import matplotlib.pyplot as plt\n",
    "\n",
    "df = pd.read_excel('/Users/lojainabdulla/Desktop/screenshots/Dissertation Audit Fraud using ML/NHStrustsLLM+isolationforest.xlsx')  # use pd.read_excel() for Excel files\n",
    "\n",
    "print(df.head())           # First 5 rows\n",
    "print(df.info())           # Summary of columns and data types\n",
    "print(df.describe())       # Descriptive stats for numerical columns\n",
    "\n",
    "print(df['financial mismangement score (0-1)'].value_counts())\n",
    "print(df['financial mismangement score (0-1)'].describe())\n",
    "\n",
    "df['financial mismangement score (0-1)'].hist(bins=20)\n",
    "plt.title('Distribution of Mismanagement Scores')\n",
    "plt.xlabel('Score')\n",
    "plt.ylabel('Count')\n",
    "plt.show()\n",
    "\n",
    "# Count of scores ≥ 0.4\n",
    "count_high = (df['financial mismangement score (0-1)'] >= 0.4).sum()\n",
    "\n",
    "# Total number of records\n",
    "total_count = len(df)\n",
    "\n",
    "# Percentage\n",
    "percentage_high = (count_high / total_count) * 100\n",
    "\n",
    "print(f\"Percentage of scores ≥ 0.4: {percentage_high:.2f}%\")\n",
    "\n",
    "# Map LLM Score to binary: 1 if score ≥ 0.4, else 0\n",
    "df['financial mismangement score (0-1)'] = (df['LLM Score'] >= 0.4).astype(int)\n",
    "\n",
    "\n",
    "# save\n",
    "df.to_excel('NHStrustsLLM+isolationforest.xlsx', index=False)"
   ]
  }
 ],
 "metadata": {
  "kernelspec": {
   "display_name": "Python 3",
   "language": "python",
   "name": "python3"
  },
  "language_info": {
   "codemirror_mode": {
    "name": "ipython",
    "version": 3
   },
   "file_extension": ".py",
   "mimetype": "text/x-python",
   "name": "python",
   "nbconvert_exporter": "python",
   "pygments_lexer": "ipython3",
   "version": "3.12.3"
  }
 },
 "nbformat": 4,
 "nbformat_minor": 5
}
