{
 "cells": [
  {
   "cell_type": "code",
   "execution_count": null,
   "metadata": {},
   "outputs": [],
   "source": [
    "import pandas as pd\n",
    "\n",
    "# load files\n",
    "df_audit = pd.read_excel('/Users/lojainabdulla/Downloads/Sources for dataset/2018-2019/2018auditreports.xlsx', header=1)\n",
    "df_trust_to_orgcode = pd.read_excel('/Users/lojainabdulla/Downloads/Sources for dataset/Organisation Description.xlsx', header=1)\n",
    "df_expenses = pd.read_excel(\"/Users/lojainabdulla/Downloads/Sources for dataset/2018-2019/expenses.xlsx\")\n",
    "\n",
    "df_audit = df_audit.merge(\n",
    "    df_trust_to_orgcode[['Org Name', 'Org Code']],\n",
    "    left_on='BodyName', right_on='Org Name',\n",
    "    how='left'\n",
    ").drop(columns='Org Name')\n",
    "\n",
    "# List of columns from df_audit that we want to add\n",
    "columns_to_add = ['OpinionOnFinancialStatements', 'VfmArrangementsConclusion','AdditionalReportingPowers','AuditorReportOrLetterLink']  \n",
    "\n",
    "# Merge df_expenses with the selected columns from df_audit\n",
    "df_result = pd.merge(\n",
    "    df_expenses,\n",
    "    df_audit[['Org Code'] + columns_to_add],\n",
    "    left_on='Row Labels',\n",
    "    right_on='Org Code',\n",
    "    how='inner'\n",
    ")\n",
    "\n",
    "# don't need the duplicate 'OrgCode' column in the result, so we drop it\n",
    "df_result = df_result.drop(columns=['Org Code'])\n",
    "\n",
    "# save file\n",
    "df_result.to_excel(\"WrittenDataset2018-2019.xlsx\", index=False)\n"
   ]
  }
 ],
 "metadata": {
  "kernelspec": {
   "display_name": "Python 3",
   "language": "python",
   "name": "python3"
  },
  "language_info": {
   "codemirror_mode": {
    "name": "ipython",
    "version": 3
   },
   "file_extension": ".py",
   "mimetype": "text/x-python",
   "name": "python",
   "nbconvert_exporter": "python",
   "pygments_lexer": "ipython3",
   "version": "3.12.3"
  }
 },
 "nbformat": 4,
 "nbformat_minor": 2
}
