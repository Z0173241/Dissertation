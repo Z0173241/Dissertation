{
 "cells": [
  {
   "cell_type": "code",
   "execution_count": null,
   "metadata": {},
   "outputs": [],
   "source": [
    "import pandas as pd\n",
    "\n",
    "#load excel files \n",
    "df_audit = pd.read_excel('/Users/lojainabdulla/Downloads/Sources for dataset/2020-2021/audit_reports_2020-2021.xlsx', header=1)\n",
    "df_trust_to_orgcode = pd.read_excel('/Users/lojainabdulla/Downloads/Sources for dataset/Organisation Description.xlsx', header=1)\n",
    "df_expenses = pd.read_excel('/Users/lojainabdulla/Downloads/Sources for dataset/2020-2021/Dataset 2020-2021.xlsx')\n",
    "\n",
    "df_audit = df_audit.merge(\n",
    "    df_trust_to_orgcode[['Org Name', 'Org Code']],\n",
    "    left_on='BodyName', right_on='Org Name',\n",
    "    how='left'\n",
    ").drop(columns='Org Name')\n",
    "\n",
    "# save file\n",
    "df_audit.to_excel(\"auditfile2020-2021.xlsx\", index=False)\n",
    "\n",
    "# List of columns from df_audit that you want to add\n",
    "columns_to_add = ['OpinionOnFinancialStatements', 'Significant weakness in VFM arrangements',\n",
    "    'AdditionalReportingPowers',\n",
    "    'AuditorReportOrLetterLink',\n",
    "    'OpinionOnFinancialStatements: Qualified true and fair opinion on the financial statements',\n",
    "    'OpinionOnFinancialStatements: Emphasis of matter',\n",
    "    'OpinionOnFinancialStatements: Going concern conclusion - Material uncertainty',\n",
    "    'OpinionOnFinancialStatements: Other matters by exception',\n",
    "    'OpinionOnFinancialStatements: Qualified opinion on the Remuneration Report and Staff Report',\n",
    "    'OpinionOnFinancialStatements: Qualified regularity opinion',\n",
    "    'OpinionOnFinancialStatements: Qualified true and fair opinion on the financial statements - inventory',\n",
    "    'Significant weakness in VFM arrangements:  Financial_sustainability',\n",
    "    'Significant weakness in VFM arrangements: Governance',\n",
    "    'Significant weakness in VFM arrangements: Improving economy, efficiency and effectiveness']  \n",
    "\n",
    "# Merge df_expenses with the selected columns from df_audit\n",
    "df_result = pd.merge(\n",
    "    df_expenses,\n",
    "    df_audit[['Org Code'] + columns_to_add],\n",
    "    left_on='Row Labels',\n",
    "    right_on='Org Code',\n",
    "    how='inner'\n",
    ")\n",
    "\n",
    "# don't need the duplicate 'OrgCode' column in the result so we drop it:\n",
    "df_result = df_result.drop(columns=['Org Code'])\n",
    "\n",
    "# save file\n",
    "df_result.to_excel(\"Dataset2020-2021.xlsx\", index=False)\n"
   ]
  }
 ],
 "metadata": {
  "kernelspec": {
   "display_name": "Python 3",
   "language": "python",
   "name": "python3"
  },
  "language_info": {
   "codemirror_mode": {
    "name": "ipython",
    "version": 3
   },
   "file_extension": ".py",
   "mimetype": "text/x-python",
   "name": "python",
   "nbconvert_exporter": "python",
   "pygments_lexer": "ipython3",
   "version": "3.12.3"
  }
 },
 "nbformat": 4,
 "nbformat_minor": 2
}
